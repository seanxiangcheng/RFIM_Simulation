{
 "cells": [
  {
   "cell_type": "code",
   "execution_count": 128,
   "metadata": {
    "collapsed": true
   },
   "outputs": [],
   "source": [
    "import numpy as np\n",
    "import pandas as pd\n",
    "import matplotlib.pyplot as plt\n",
    "import matplotlib.cm as cm\n",
    "from scipy import optimize\n",
    "import os\n",
    "from scipy.optimize import curve_fit\n",
    "%matplotlib inline"
   ]
  },
  {
   "cell_type": "code",
   "execution_count": 259,
   "metadata": {
    "collapsed": true
   },
   "outputs": [],
   "source": [
    "def get_med_fn(L, T, repeat, shi=1.0, nm='sqT'):\n",
    "    fname = \"MED\"\n",
    "    fname += \"_L\" + str(L) \n",
    "    fname += \"_T%.1f\" % T\n",
    "    fname += \"_shi%.1f\" % shi\n",
    "    fname += \"_sHi%.2f\" % np.sqrt(T)\n",
    "    fname += \"_r%d\" % repeat\n",
    "    fname += \"_\" + nm + \".csv\"\n",
    "    return(fname)\n",
    "def get_spin_fn(L, T, repeat, shi=1.0, nm='sqT'):\n",
    "    fname = \"spin\"\n",
    "    fname += \"_L\" + str(L) \n",
    "    fname += \"_T%.1f\" % T\n",
    "    fname += \"_shi%.1f\" % shi\n",
    "    fname += \"_sHi%.2f\" % np.sqrt(T)\n",
    "    fname += \"_r%d\" % repeat\n",
    "    fname += \"_\" + nm + \".csv\"\n",
    "    return(fname)\n",
    "def mag_plot(L, reps, Ts=[0.1, 0.5, 1.0, 2.0]):\n",
    "    plt.figure(1, figsize = (10,10))\n",
    "    for i in range(len(Ts)):\n",
    "        T = Ts[i]\n",
    "        fname = '../data/' + get_med_fn(L, T, reps)\n",
    "        med = pd.read_csv(fname, skiprows=1)\n",
    "        plt.subplot(2, 2, i+1)\n",
    "        plt.plot(med['mc_step'], med['mag'])\n",
    "        plt.xlim([0,np.max(med['mc_step'])])\n",
    "        #plt.ylim([-0.005, 0.005])\n",
    "        if(i>1):\n",
    "            plt.xlabel(\"MC steps\", fontsize = 16)\n",
    "        if(i%2==0):\n",
    "            plt.ylabel(\"$<m>$\", fontsize = 16)\n",
    "        plt.title(\"Magnetization, T=%.1f\" % (T), fontsize=16)\n",
    "def energy_plot(L, reps, Ts=[0.1, 0.5, 1.0, 2.0]):\n",
    "    plt.figure(1, figsize = (10,10))\n",
    "    for i in range(len(Ts)):\n",
    "        T = Ts[i]\n",
    "        fname = '../data/' + get_med_fn(L, T, reps)\n",
    "        med = pd.read_csv(fname, skiprows=1)\n",
    "        plt.subplot(2, 2, i+1)\n",
    "        plt.plot(med['mc_step'], med['energy'])\n",
    "        plt.xlim([1,500])\n",
    "        #plt.ylim([1.8, 2.0])\n",
    "        plt.autoscale(axis='y')\n",
    "        if(i>1):\n",
    "            plt.xlabel(\"MC steps\", fontsize = 16)\n",
    "        if(i%2==0):\n",
    "            plt.ylabel(\"$<e>$\", fontsize = 16)\n",
    "        plt.title(\"Energy, T=%.1f\" % (T), fontsize=16)\n",
    "        \n",
    "def get_param_file(fname):\n",
    "    fe = fname.split('_')\n",
    "    L=float(fe[1][1:])\n",
    "    T=float(fe[2][1:])\n",
    "    shi=float(fe[3][3:])\n",
    "    sHi=float(fe[4][3:])\n",
    "    reps=float(fe[5][1:])\n",
    "    #print \"L=%.2f; T=%.2f; shi=%.2f; sHi=%.2f; reps=%.0f\" % (L, T, shi, sHi, reps)\n",
    "    return [L, T, shi, sHi, reps]\n",
    "\n",
    "def get_exp(x, y):\n",
    "    x = np.array(x)[10:]\n",
    "    y = np.array(y)[10:]\n",
    "    def func(x,  ee, A, c):\n",
    "        return ee + A * (x**(-c))\n",
    "    try:\n",
    "        popt, pcov = curve_fit(func, x, y, p0=(-1.9899, 0.001, 0.001), maxfev=3000)\n",
    "    except RuntimeError:\n",
    "        return [0, 0, 0]\n",
    "    return popt\n",
    "\n",
    "def get_med_files(path='../data'):\n",
    "    files=[]\n",
    "    for file in os.listdir(\"../data\"):\n",
    "        if file.startswith(\"MED\"):\n",
    "            files += [file]\n",
    "    return files"
   ]
  },
  {
   "cell_type": "code",
   "execution_count": 268,
   "metadata": {
    "collapsed": false
   },
   "outputs": [
    {
     "data": {
      "text/plain": [
       "(0, 10)"
      ]
     },
     "execution_count": 268,
     "metadata": {},
     "output_type": "execute_result"
    },
    {
     "data": {
      "image/png": "[encoded data removed]",
      "text/plain": [
       "<matplotlib.figure.Figure at 0x7f06471ee290>"
      ]
     },
     "metadata": {},
     "output_type": "display_data"
    }
   ],
   "source": [
    "energy_plot(32, 1000, Ts=[0.1])\n",
    "plt.xlim(0,10)"
   ]
  },
  {
   "cell_type": "code",
   "execution_count": 269,
   "metadata": {
    "collapsed": false
   },
   "outputs": [
    {
     "ename": "IndentationError",
     "evalue": "expected an indented block (<ipython-input-269-0c91c93aca0c>, line 26)",
     "output_type": "error",
     "traceback": [
      "\u001b[1;36m  File \u001b[1;32m\"<ipython-input-269-0c91c93aca0c>\"\u001b[1;36m, line \u001b[1;32m26\u001b[0m\n\u001b[1;33m    results = pd.DataFrame({\"L\":Ls, \"T\":Ts, \"shi\":shis, \"sHis\":sHis, \"repetition\":reps, \"ee\":ees, \"A\":As, \"c\":cs})\u001b[0m\n\u001b[1;37m                                                                                                                  ^\u001b[0m\n\u001b[1;31mIndentationError\u001b[0m\u001b[1;31m:\u001b[0m expected an indented block\n"
     ]
    }
   ],
   "source": [
    "path = \"../data/\"\n",
    "med_files = get_med_files(path)\n",
    "Ls = []\n",
    "Ts = []\n",
    "shis = []\n",
    "sHis = []\n",
    "reps = []\n",
    "ees = []\n",
    "As = []\n",
    "cs = []\n",
    "for fname in med_files:\n",
    "    fname = path+fname\n",
    "    print fname\n",
    "    med = pd.read_csv(fname, skiprows=1)\n",
    "    [L, T, shi, sHi, rep] = get_param_file(fname)\n",
    "    [ee, A, c]=get_exp(med['mc_step'], med['energy'])\n",
    "    Ls += [L]\n",
    "    Ts += [T]\n",
    "    shis += [shi]\n",
    "    sHis += [sHi]\n",
    "    reps += [rep]\n",
    "    ees += [ee]\n",
    "    As += [A]\n",
    "    cs += [c]\n",
    "    if(abs(ee-2.0)<0.1 and abs(A-0.2)<0.2 and abs(c-0.1)<0.1):\n",
    "        \n",
    "results = pd.DataFrame({\"L\":Ls, \"T\":Ts, \"shi\":shis, \"sHis\":sHis, \"repetition\":reps, \"ee\":ees, \"A\":As, \"c\":cs})\n",
    "cols = [\"L\", \"T\", \"shi\", \"sHis\", \"repetition\", \"ee\", \"A\", \"c\"]\n",
    "results = results[cols]\n",
    "results = results.sort(['ee', 'T'], ascending=[1, 1])\n",
    "print results"
   ]
  },
  {
   "cell_type": "code",
   "execution_count": 239,
   "metadata": {
    "collapsed": false
   },
   "outputs": [
    {
     "data": {
      "text/html": [
       "<div style=\"max-height:1000px;max-width:1500px;overflow:auto;\">\n",
       "<table border=\"1\" class=\"dataframe\">\n",
       "  <thead>\n",
       "    <tr style=\"text-align: right;\">\n",
       "      <th></th>\n",
       "      <th>A</th>\n",
       "      <th>L</th>\n",
       "      <th>T</th>\n",
       "      <th>c</th>\n",
       "      <th>ee</th>\n",
       "      <th>repetition</th>\n",
       "      <th>sHis</th>\n",
       "      <th>shi</th>\n",
       "    </tr>\n",
       "  </thead>\n",
       "  <tbody>\n",
       "    <tr>\n",
       "      <th>0</th>\n",
       "      <td> 0.078466</td>\n",
       "      <td>  64</td>\n",
       "      <td> 2.0</td>\n",
       "      <td> 0.081826</td>\n",
       "      <td>-2.013316</td>\n",
       "      <td> 1000</td>\n",
       "      <td> 1.41</td>\n",
       "      <td> 1</td>\n",
       "    </tr>\n",
       "    <tr>\n",
       "      <th>1</th>\n",
       "      <td> 0.078466</td>\n",
       "      <td> 256</td>\n",
       "      <td> 0.5</td>\n",
       "      <td> 0.081826</td>\n",
       "      <td>-2.013316</td>\n",
       "      <td>  200</td>\n",
       "      <td> 0.71</td>\n",
       "      <td> 1</td>\n",
       "    </tr>\n",
       "    <tr>\n",
       "      <th>2</th>\n",
       "      <td> 0.078466</td>\n",
       "      <td> 128</td>\n",
       "      <td> 0.1</td>\n",
       "      <td> 0.081826</td>\n",
       "      <td>-2.013316</td>\n",
       "      <td>  200</td>\n",
       "      <td> 0.32</td>\n",
       "      <td> 1</td>\n",
       "    </tr>\n",
       "  </tbody>\n",
       "</table>\n",
       "<p>3 rows × 8 columns</p>\n",
       "</div>"
      ],
      "text/plain": [
       "          A    L    T         c        ee  repetition  sHis  shi\n",
       "0  0.078466   64  2.0  0.081826 -2.013316        1000  1.41    1\n",
       "1  0.078466  256  0.5  0.081826 -2.013316         200  0.71    1\n",
       "2  0.078466  128  0.1  0.081826 -2.013316         200  0.32    1\n",
       "\n",
       "[3 rows x 8 columns]"
      ]
     },
     "execution_count": 239,
     "metadata": {},
     "output_type": "execute_result"
    }
   ],
   "source": []
  },
  {
   "cell_type": "code",
   "execution_count": 237,
   "metadata": {
    "collapsed": false
   },
   "outputs": [
    {
     "data": {
      "text/plain": [
       "[[...], [...], [...]]"
      ]
     },
     "execution_count": 237,
     "metadata": {},
     "output_type": "execute_result"
    }
   ],
   "source": [
    "cs"
   ]
  },
  {
   "cell_type": "code",
   "execution_count": 127,
   "metadata": {
    "collapsed": false
   },
   "outputs": [
    {
     "name": "stdout",
     "output_type": "stream",
     "text": [
      "[-2.01331618  0.07846607 -0.08182562]\n",
      "[[  6.55958615e-08  -5.21643793e-08  -1.18377878e-07]\n",
      " [ -5.21643793e-08   4.18297482e-08   9.35243488e-08]\n",
      " [ -1.18377878e-07   9.35243488e-08   2.14774712e-07]]\n"
     ]
    },
    {
     "data": {
      "image/png": "[encoded data removed]",
      "text/plain": [
       "<matplotlib.figure.Figure at 0x7f064bcd0cd0>"
      ]
     },
     "metadata": {},
     "output_type": "display_data"
    }
   ],
   "source": [
    "L=64\n",
    "T=.5\n",
    "reps=1000\n",
    "fname = '../data/' + get_med_fn(L, T, reps)\n",
    "med = pd.read_csv(fname, skiprows=1)\n",
    "\n",
    "xd = np.array(med['mc_step'])[10:]\n",
    "yd = np.array(med['energy'])[10:]\n",
    "plt.plot(xd, yd)\n",
    "\n",
    "def func(x,  p1, p2, p3):\n",
    "    return p1 + p2 * (x**(p3))\n",
    "\n",
    "popt, pcov = curve_fit(func, xd, yd, p0=(-1.98, 0.001, 0.001), maxfev=3000)\n",
    "print popt\n",
    "print pcov"
   ]
  },
  {
   "cell_type": "code",
   "execution_count": 195,
   "metadata": {
    "collapsed": false
   },
   "outputs": [
    {
     "name": "stdout",
     "output_type": "stream",
     "text": [
      "['MED_L64_T2.0_shi1.0_sHi1.41_r1000_sqT.csv', 'MED_L256_T0.5_shi1.0_sHi0.71_r200_sqT.csv', 'MED_L128_T0.1_shi1.0_sHi0.32_r200_sqT.csv', 'MED_L64_T1.0_shi1.0_sHi1.00_r2000_sqT.csv', 'MED_L128_T1.0_shi1.0_sHi1.00_r1000_sqT.csv', 'MED_L256_T1.0_shi1.0_sHi1.00_r200_sqT.csv', 'MED_L32_T0.5_shi1.0_sHi0.71_r1000_sqT.csv', 'MED_L128_T0.5_shi1.0_sHi0.71_r200_sqT.csv', 'MED_L128_T2.0_shi1.0_sHi1.41_r200_sqT.csv', 'MED_L128_T1.0_shi1.0_sHi1.00_r200_sqT.csv', 'MED_L64_T0.1_shi1.0_sHi0.32_r1000_sqT.csv', 'MED_L32_T2.0_shi1.0_sHi1.41_r1000_sqT.csv', 'MED_L32_T0.1_shi1.0_sHi0.32_r1000_sqT.csv', 'MED_L64_T1.0_shi1.0_sHi1.00_r1000_sqT.csv', 'MED_L32_T1.0_shi1.0_sHi1.00_r1000_sqT.csv', 'MED_L64_T0.5_shi1.0_sHi0.71_r1000_sqT.csv']\n"
     ]
    }
   ],
   "source": [
    "files=[]\n",
    "for file in os.listdir(\"../data\"):\n",
    "    if file.startswith(\"MED\"):\n",
    "        files += [file]\n",
    "print files"
   ]
  },
  {
   "cell_type": "code",
   "execution_count": 159,
   "metadata": {
    "collapsed": false
   },
   "outputs": [
    {
     "name": "stdout",
     "output_type": "stream",
     "text": [
      "L=256.00; T=0.50; shi=1.00; sHi=0.71; reps=200\n"
     ]
    }
   ],
   "source": [
    "fe = files[1].split('_')\n",
    "L=float(fe[1][1:])\n",
    "T=float(fe[2][1:])\n",
    "shi=float(fe[3][3:])\n",
    "sHi=float(fe[4][3:])\n",
    "reps=float(fe[5][1:])\n",
    "print \"L=%.2f; T=%.2f; shi=%.2f; sHi=%.2f; reps=%.0f\" % (L, T, shi, sHi, reps)"
   ]
  },
  {
   "cell_type": "code",
   "execution_count": 212,
   "metadata": {
    "collapsed": false
   },
   "outputs": [],
   "source": [
    "def get_med_files(path='../data'):\n",
    "    files=[]\n",
    "    for file in os.listdir(\"../data\"):\n",
    "        if file.startswith(\"MED\"):\n",
    "            files += [file]\n",
    "    return files"
   ]
  },
  {
   "cell_type": "code",
   "execution_count": 213,
   "metadata": {
    "collapsed": false
   },
   "outputs": [
    {
     "data": {
      "text/plain": [
       "['MED_L64_T2.0_shi1.0_sHi1.41_r1000_sqT.csv',\n",
       " 'MED_L256_T0.5_shi1.0_sHi0.71_r200_sqT.csv',\n",
       " 'MED_L128_T0.1_shi1.0_sHi0.32_r200_sqT.csv',\n",
       " 'MED_L64_T1.0_shi1.0_sHi1.00_r2000_sqT.csv',\n",
       " 'MED_L128_T1.0_shi1.0_sHi1.00_r1000_sqT.csv',\n",
       " 'MED_L256_T1.0_shi1.0_sHi1.00_r200_sqT.csv',\n",
       " 'MED_L32_T0.5_shi1.0_sHi0.71_r1000_sqT.csv',\n",
       " 'MED_L128_T0.5_shi1.0_sHi0.71_r200_sqT.csv',\n",
       " 'MED_L128_T2.0_shi1.0_sHi1.41_r200_sqT.csv',\n",
       " 'MED_L128_T1.0_shi1.0_sHi1.00_r200_sqT.csv',\n",
       " 'MED_L64_T0.1_shi1.0_sHi0.32_r1000_sqT.csv',\n",
       " 'MED_L32_T2.0_shi1.0_sHi1.41_r1000_sqT.csv',\n",
       " 'MED_L32_T0.1_shi1.0_sHi0.32_r1000_sqT.csv',\n",
       " 'MED_L64_T1.0_shi1.0_sHi1.00_r1000_sqT.csv',\n",
       " 'MED_L32_T1.0_shi1.0_sHi1.00_r1000_sqT.csv',\n",
       " 'MED_L64_T0.5_shi1.0_sHi0.71_r1000_sqT.csv']"
      ]
     },
     "execution_count": 213,
     "metadata": {},
     "output_type": "execute_result"
    }
   ],
   "source": [
    "get_med_files()"
   ]
  },
  {
   "cell_type": "code",
   "execution_count": 193,
   "metadata": {
    "collapsed": false
   },
   "outputs": [
    {
     "name": "stdout",
     "output_type": "stream",
     "text": [
      "L=64.00; T=2.00; shi=1.00; sHi=1.41; reps=1000\n",
      "L=64.00; T=2.00; shi=1.00; sHi=1.41; reps=1000\n"
     ]
    }
   ],
   "source": [
    "[L, T, shi, sHi, reps] = get_param(files[0])\n",
    "print \"L=%.2f; T=%.2f; shi=%.2f; sHi=%.2f; reps=%.0f\" % (L, T, shi, sHi, reps)"
   ]
  },
  {
   "cell_type": "code",
   "execution_count": 185,
   "metadata": {
    "collapsed": false
   },
   "outputs": [
    {
     "name": "stdout",
     "output_type": "stream",
     "text": [
      "L=32.00; T=0.50; shi=1.00; sHi=0.71; reps=1000\n"
     ]
    },
    {
     "data": {
      "text/plain": [
       "(32.0, 0.5, 1.0, 0.71, 1000.0)"
      ]
     },
     "execution_count": 185,
     "metadata": {},
     "output_type": "execute_result"
    }
   ],
   "source": [
    "get_param(files[6])"
   ]
  },
  {
   "cell_type": "code",
   "execution_count": 188,
   "metadata": {
    "collapsed": false
   },
   "outputs": [],
   "source": [
    "[L, T, shi, sHi, reps] = (31.0, 0.6, 1.0, 0.71, 1000.0)"
   ]
  },
  {
   "cell_type": "code",
   "execution_count": 190,
   "metadata": {
    "collapsed": false
   },
   "outputs": [
    {
     "data": {
      "text/plain": [
       "0.6"
      ]
     },
     "execution_count": 190,
     "metadata": {},
     "output_type": "execute_result"
    }
   ],
   "source": [
    "T"
   ]
  },
  {
   "cell_type": "code",
   "execution_count": null,
   "metadata": {
    "collapsed": true
   },
   "outputs": [],
   "source": []
  }
 ],
 "metadata": {
  "kernelspec": {
   "display_name": "Python 2",
   "language": "python",
   "name": "python2"
  },
  "language_info": {
   "codemirror_mode": {
    "name": "ipython",
    "version": 2
   },
   "file_extension": ".py",
   "mimetype": "text/x-python",
   "name": "python",
   "nbconvert_exporter": "python",
   "pygments_lexer": "ipython2",
   "version": "2.7.6"
  }
 },
 "nbformat": 4,
 "nbformat_minor": 0
}
